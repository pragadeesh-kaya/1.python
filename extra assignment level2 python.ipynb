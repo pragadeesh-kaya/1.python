{
 "cells": [
  {
   "cell_type": "code",
   "execution_count": 2,
   "id": "af108356-f5f9-4325-a05b-df0cc57c447a",
   "metadata": {},
   "outputs": [
    {
     "name": "stdout",
     "output_type": "stream",
     "text": [
      "0\n",
      "1\n",
      "2\n",
      "3\n",
      "4\n",
      "5\n",
      "6\n",
      "7\n",
      "8\n",
      "9\n",
      "10\n",
      "11\n",
      "12\n",
      "13\n",
      "14\n",
      "15\n",
      "16\n",
      "17\n",
      "18\n",
      "19\n"
     ]
    }
   ],
   "source": [
    "for num in range(0,20):\n",
    "    print(num)"
   ]
  },
  {
   "cell_type": "code",
   "execution_count": 2,
   "id": "3ee57854-023e-4ab5-8e8b-c0a1ac0736ca",
   "metadata": {},
   "outputs": [
    {
     "name": "stdout",
     "output_type": "stream",
     "text": [
      "10 11 12 13 14 15 16 17 18 19 \n"
     ]
    }
   ],
   "source": [
    "ans = \"\"\n",
    "for num in range(10,20):\n",
    "    ans = ans+str(num)+\" \"\n",
    "print(ans)\n"
   ]
  },
  {
   "cell_type": "code",
   "execution_count": 7,
   "id": "ff8fbbbb-0b24-4d91-b4c0-efd981c468e0",
   "metadata": {},
   "outputs": [
    {
     "name": "stdout",
     "output_type": "stream",
     "text": [
      "[10, 20, 14, 55, 43, 87, 76] \n",
      "Number of item in the List2:\n",
      " 7\n"
     ]
    }
   ],
   "source": [
    "list2 = [10,20,14,55,43,87,76]\n",
    "print(list2,\"\\nNumber of item in the List2:\\n\",len(list2))"
   ]
  },
  {
   "cell_type": "code",
   "execution_count": 8,
   "id": "0768f3ea-3230-47a7-8464-d55c637b95a8",
   "metadata": {},
   "outputs": [
    {
     "name": "stdout",
     "output_type": "stream",
     "text": [
      "Artificial Intelligence\n",
      "A\n",
      "r\n",
      "t\n",
      "i\n",
      "f\n",
      "i\n",
      "c\n",
      "i\n",
      "a\n",
      "l\n",
      " \n",
      "I\n",
      "n\n",
      "t\n",
      "e\n",
      "l\n",
      "l\n",
      "i\n",
      "g\n",
      "e\n",
      "n\n",
      "c\n",
      "e\n"
     ]
    }
   ],
   "source": [
    "text = \"Artificial Intelligence\"\n",
    "print(text)\n",
    "for i in text:\n",
    "    print(i)"
   ]
  },
  {
   "cell_type": "code",
   "execution_count": 10,
   "id": "503503ed-06e7-4799-ba6f-e2f08eef17ff",
   "metadata": {},
   "outputs": [
    {
     "name": "stdout",
     "output_type": "stream",
     "text": [
      "-Pragadeesh Kayarohanam-\n",
      "-29-\n",
      "-Software Engineer API-\n"
     ]
    }
   ],
   "source": [
    "print(\"-Pragadeesh Kayarohanam-\\n-29-\\n-Software Engineer API-\")"
   ]
  },
  {
   "cell_type": "code",
   "execution_count": 11,
   "id": "5df2d976-b9e3-45aa-9983-5fd40df7ddc8",
   "metadata": {},
   "outputs": [
    {
     "name": "stdout",
     "output_type": "stream",
     "text": [
      "(1, 'Welcome', 2, 'Hope')\n"
     ]
    }
   ],
   "source": [
    "my_tuple = (1,'Welcome',2,'Hope')\n",
    "print(my_tuple)"
   ]
  },
  {
   "cell_type": "code",
   "execution_count": 12,
   "id": "adf146ef-d94e-4ca6-b26c-8ecf4540e85d",
   "metadata": {},
   "outputs": [
    {
     "name": "stdout",
     "output_type": "stream",
     "text": [
      "((0, 1, 2, 3), ('Python', 'HOPE'))\n"
     ]
    }
   ],
   "source": [
    "tuple1=(0,1,2,3)\n",
    "tuple2=('Python','HOPE')\n",
    "tuple3=(tuple1,tuple2)\n",
    "print(tuple3)"
   ]
  },
  {
   "cell_type": "code",
   "execution_count": 15,
   "id": "2d0bab10-780b-479d-a5c4-bd9a6ad5c5cb",
   "metadata": {},
   "outputs": [
    {
     "name": "stdout",
     "output_type": "stream",
     "text": [
      "19 is odd\n",
      "25 is odd\n",
      "1 is odd\n"
     ]
    }
   ],
   "source": [
    "my_list = [20,10,16,19,25,1,276,188]\n",
    "for num in my_list:\n",
    "    if num%2==1:\n",
    "        print(f\"{num} is odd\")"
   ]
  },
  {
   "cell_type": "code",
   "execution_count": 16,
   "id": "5611d96e-b5c1-47e9-9412-9e102b635cd9",
   "metadata": {},
   "outputs": [
    {
     "name": "stdout",
     "output_type": "stream",
     "text": [
      "20 is even\n",
      "10 is even\n",
      "16 is even\n",
      "276 is even\n",
      "188 is even\n"
     ]
    }
   ],
   "source": [
    "for num in my_list:\n",
    "    if num%2==0:\n",
    "        print(f\"{num} is even\")"
   ]
  },
  {
   "cell_type": "code",
   "execution_count": null,
   "id": "12e14418-b452-4732-b26f-9b5d304c33ce",
   "metadata": {},
   "outputs": [],
   "source": []
  }
 ],
 "metadata": {
  "kernelspec": {
   "display_name": "Python 3 (ipykernel)",
   "language": "python",
   "name": "python3"
  },
  "language_info": {
   "codemirror_mode": {
    "name": "ipython",
    "version": 3
   },
   "file_extension": ".py",
   "mimetype": "text/x-python",
   "name": "python",
   "nbconvert_exporter": "python",
   "pygments_lexer": "ipython3",
   "version": "3.12.4"
  }
 },
 "nbformat": 4,
 "nbformat_minor": 5
}
