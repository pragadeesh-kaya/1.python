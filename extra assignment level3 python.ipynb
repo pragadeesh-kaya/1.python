{
 "cells": [
  {
   "cell_type": "code",
   "execution_count": 3,
   "id": "875efb3d-1628-4935-b75c-b52f0b23247d",
   "metadata": {},
   "outputs": [
    {
     "name": "stdin",
     "output_type": "stream",
     "text": [
      "Value:  10\n"
     ]
    },
    {
     "name": "stdout",
     "output_type": "stream",
     "text": [
      "Correct\n"
     ]
    }
   ],
   "source": [
    "i = int(input(\"Value: \"))\n",
    "if i == 10:\n",
    "    print(\"Correct\")   "
   ]
  },
  {
   "cell_type": "code",
   "execution_count": 1,
   "id": "f53cb051-0c5e-4a06-8ac7-318bb14c7fc4",
   "metadata": {},
   "outputs": [
    {
     "name": "stdin",
     "output_type": "stream",
     "text": [
      "Enter the Password:  HOPE@123\n"
     ]
    },
    {
     "name": "stdout",
     "output_type": "stream",
     "text": [
      "Your Password is correct\n"
     ]
    }
   ],
   "source": [
    "i = input(\"Enter the Password: \")\n",
    "if i == \"HOPE@123\":\n",
    "    print(\"Your Password is correct\")\n",
    "else:\n",
    "    print(\"Incorrect Password\")"
   ]
  },
  {
   "cell_type": "code",
   "execution_count": 5,
   "id": "759a4563-e3c2-47ff-aba9-1c001803aabf",
   "metadata": {},
   "outputs": [
    {
     "name": "stdin",
     "output_type": "stream",
     "text": [
      "age:  20\n"
     ]
    },
    {
     "name": "stdout",
     "output_type": "stream",
     "text": [
      "Adult\n"
     ]
    }
   ],
   "source": [
    "age = int(input(\"age: \"))\n",
    "if 0 < age < 18:\n",
    "    print(\"Children\")\n",
    "elif 17 < age < 35:\n",
    "    print(\"Adult\")\n",
    "elif 34 < age < 60:\n",
    "    print(\"Citizen\")\n",
    "elif age >= 60:\n",
    "    print(\"Senior Citizen\")\n",
    "else:\n",
    "    print(\"Invalid age\")"
   ]
  },
  {
   "cell_type": "code",
   "execution_count": 9,
   "id": "987e6c06-cb9b-4dc7-a247-22e43dfc0e73",
   "metadata": {},
   "outputs": [
    {
     "name": "stdin",
     "output_type": "stream",
     "text": [
      "Enter any number:  1\n"
     ]
    },
    {
     "name": "stdout",
     "output_type": "stream",
     "text": [
      "No is Positive\n"
     ]
    }
   ],
   "source": [
    "i = int(input(\"Enter any number: \"))\n",
    "if i<0:\n",
    "    print(\"No is Negative\")\n",
    "elif i>0:\n",
    "    print(\"No is Positive\")\n",
    "else:\n",
    "    print(\"No is non-negative\")"
   ]
  },
  {
   "cell_type": "code",
   "execution_count": 12,
   "id": "d9afe0d9-95d4-4834-adb4-ce78672c84e2",
   "metadata": {},
   "outputs": [
    {
     "name": "stdin",
     "output_type": "stream",
     "text": [
      "Enter a number to check:  22\n"
     ]
    },
    {
     "name": "stdout",
     "output_type": "stream",
     "text": [
      "No is not divisible by 5\n"
     ]
    }
   ],
   "source": [
    "i = int(input(\"Enter a number to check: \"))\n",
    "if i%5==0:\n",
    "    print(\"No is divisible by 5\")\n",
    "else:\n",
    "    print(\"No is not divisible by 5\")"
   ]
  },
  {
   "cell_type": "code",
   "execution_count": null,
   "id": "de4b8d07-e6d2-4c30-91b9-1824c02892ed",
   "metadata": {},
   "outputs": [],
   "source": []
  }
 ],
 "metadata": {
  "kernelspec": {
   "display_name": "Python 3 (ipykernel)",
   "language": "python",
   "name": "python3"
  },
  "language_info": {
   "codemirror_mode": {
    "name": "ipython",
    "version": 3
   },
   "file_extension": ".py",
   "mimetype": "text/x-python",
   "name": "python",
   "nbconvert_exporter": "python",
   "pygments_lexer": "ipython3",
   "version": "3.12.4"
  }
 },
 "nbformat": 4,
 "nbformat_minor": 5
}
