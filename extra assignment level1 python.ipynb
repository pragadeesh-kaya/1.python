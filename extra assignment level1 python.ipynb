{
 "cells": [
  {
   "cell_type": "code",
   "execution_count": 2,
   "id": "a47e80a4-6056-40aa-b235-dbacff86a216",
   "metadata": {},
   "outputs": [
    {
     "name": "stdout",
     "output_type": "stream",
     "text": [
      "HOPE AI\n"
     ]
    }
   ],
   "source": [
    "print(\"HOPE AI\")"
   ]
  },
  {
   "cell_type": "code",
   "execution_count": 1,
   "id": "923ff0a0-3b8b-43c3-b8b3-e3625b7feea3",
   "metadata": {},
   "outputs": [
    {
     "name": "stdin",
     "output_type": "stream",
     "text": [
      "Enter your Institute name? :  HOPE AI\n"
     ]
    }
   ],
   "source": [
    "name1 = input(\"Enter your Institute name? : \")"
   ]
  },
  {
   "cell_type": "code",
   "execution_count": 2,
   "id": "4d826263-fbba-49ab-8233-eb19e9e71456",
   "metadata": {},
   "outputs": [
    {
     "name": "stdin",
     "output_type": "stream",
     "text": [
      "Enter your name:  Raj\n",
      "Enter your age:  15\n",
      "Enter your school name:  Guru school\n",
      "Enter your degree:  B.E CSE\n"
     ]
    }
   ],
   "source": [
    "name = input(\"Enter your name: \")\n",
    "age = int(input(\"Enter your age: \"))\n",
    "school_name = input(\"Enter your school name: \")\n",
    "degree = input(\"Enter your degree: \")"
   ]
  },
  {
   "cell_type": "code",
   "execution_count": 5,
   "id": "e7de875b-b0d5-40bb-8032-9c1a9f1887be",
   "metadata": {},
   "outputs": [
    {
     "name": "stdout",
     "output_type": "stream",
     "text": [
      "a= 43\n",
      "b= 34\n",
      "add = 77\n"
     ]
    }
   ],
   "source": [
    "num1,num2 = 43,34\n",
    "print(f\"a= {num1}\\nb= {num2}\\nadd = {num1+num2}\")"
   ]
  },
  {
   "cell_type": "code",
   "execution_count": 6,
   "id": "e8257de5-9a2e-4379-9170-787eb6e07459",
   "metadata": {},
   "outputs": [
    {
     "name": "stdout",
     "output_type": "stream",
     "text": [
      "a= 43\n",
      "b= 34\n",
      "Sub = 9\n"
     ]
    }
   ],
   "source": [
    "num1,num2 = 43,34\n",
    "print(f\"a= {num1}\\nb= {num2}\\nSub = {num1-num2}\")"
   ]
  },
  {
   "cell_type": "code",
   "execution_count": 8,
   "id": "d564f142-bb10-44f8-98f7-34051b28b176",
   "metadata": {},
   "outputs": [
    {
     "name": "stdout",
     "output_type": "stream",
     "text": [
      "a= 63\n",
      "b= 97\n",
      "Mul = 6111\n"
     ]
    }
   ],
   "source": [
    "num1,num2 = 63,97\n",
    "print(f\"a= {num1}\\nb= {num2}\\nMul = {num1*num2}\")"
   ]
  },
  {
   "cell_type": "code",
   "execution_count": 10,
   "id": "cd74af8e-453a-4431-8b15-107747b5c6d1",
   "metadata": {},
   "outputs": [
    {
     "name": "stdout",
     "output_type": "stream",
     "text": [
      "a= 76\n",
      "b= 31\n",
      "Float Div = 2.4516129032258065\n"
     ]
    }
   ],
   "source": [
    "num1,num2 = 76,31\n",
    "print(f\"a= {num1}\\nb= {num2}\\nFloat Div = {num1/num2}\")"
   ]
  },
  {
   "cell_type": "code",
   "execution_count": 12,
   "id": "2ecd08f0-8380-40a9-8a66-e5515539c80a",
   "metadata": {},
   "outputs": [
    {
     "name": "stdout",
     "output_type": "stream",
     "text": [
      "a= 76\n",
      "b= 31\n",
      "Floor Div = 2\n"
     ]
    }
   ],
   "source": [
    "num1,num2 = 76,31\n",
    "print(f\"a= {num1}\\nb= {num2}\\nFloor Div = {num1//num2}\")"
   ]
  },
  {
   "cell_type": "code",
   "execution_count": 13,
   "id": "d14e0cbd-1f64-40db-8847-3457cd3f3367",
   "metadata": {},
   "outputs": [
    {
     "name": "stdout",
     "output_type": "stream",
     "text": [
      "a= 76\n",
      "b= 31\n",
      "Modulo = 14\n"
     ]
    }
   ],
   "source": [
    "num1,num2 = 76,31\n",
    "print(f\"a= {num1}\\nb= {num2}\\nModulo = {num1%num2}\")"
   ]
  },
  {
   "cell_type": "code",
   "execution_count": 15,
   "id": "4db82a64-9d80-4464-b3e4-7f8839ed644c",
   "metadata": {},
   "outputs": [
    {
     "name": "stdout",
     "output_type": "stream",
     "text": [
      "a= 4\n",
      "b= 4\n",
      "Power = 256\n"
     ]
    }
   ],
   "source": [
    "num1,num2 = 4,4\n",
    "print(f\"a= {num1}\\nb= {num2}\\nPower = {pow(num1,num2)}\")"
   ]
  },
  {
   "cell_type": "code",
   "execution_count": null,
   "id": "9bfa0382-5b27-430b-b700-d4bc3902354f",
   "metadata": {},
   "outputs": [],
   "source": []
  }
 ],
 "metadata": {
  "kernelspec": {
   "display_name": "Python 3 (ipykernel)",
   "language": "python",
   "name": "python3"
  },
  "language_info": {
   "codemirror_mode": {
    "name": "ipython",
    "version": 3
   },
   "file_extension": ".py",
   "mimetype": "text/x-python",
   "name": "python",
   "nbconvert_exporter": "python",
   "pygments_lexer": "ipython3",
   "version": "3.12.4"
  }
 },
 "nbformat": 4,
 "nbformat_minor": 5
}
