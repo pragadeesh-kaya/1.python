{
 "cells": [
  {
   "cell_type": "code",
   "execution_count": 1,
   "id": "f4e38559-aba8-43e7-9edb-ea3d04e8eeee",
   "metadata": {},
   "outputs": [
    {
     "name": "stdout",
     "output_type": "stream",
     "text": [
      "Welcome to Assignment-1\n"
     ]
    }
   ],
   "source": [
    "print(\"Welcome to Assignment-1\")"
   ]
  },
  {
   "cell_type": "code",
   "execution_count": 4,
   "id": "1e4f2aaa-be09-4dce-823d-74591d32bdfe",
   "metadata": {},
   "outputs": [
    {
     "name": "stdout",
     "output_type": "stream",
     "text": [
      "Num1= 10\n",
      "Num2= 30\n",
      "Add= 40\n"
     ]
    }
   ],
   "source": [
    "num1,num2 = 10,30\n",
    "print(f\"Num1= {num1}\\nNum2= {num2}\\nAdd= {num1+num2}\")"
   ]
  },
  {
   "cell_type": "code",
   "execution_count": 11,
   "id": "f73b5519-ea42-4023-b61d-85ce4d763713",
   "metadata": {},
   "outputs": [
    {
     "name": "stdin",
     "output_type": "stream",
     "text": [
      "Enter the BMI Index: 42.7\n"
     ]
    },
    {
     "name": "stdout",
     "output_type": "stream",
     "text": [
      "Severely obese\n"
     ]
    }
   ],
   "source": [
    "bmi = eval(input(\"Enter the BMI Index:\"))\n",
    "if 0 < bmi < 18.5:\n",
    "    print(\"Underweight\")\n",
    "elif 18.4 < bmi < 24.9:\n",
    "    print(\"Healthy\")\n",
    "elif 24.8 < bmi <29.9:\n",
    "    print(\"Overweight\")\n",
    "elif 29.8 < bmi < 39.9:\n",
    "    print(\"Obese\")\n",
    "elif 39.8 < bmi > 40:\n",
    "    print(\"Severely obese\")\n",
    "else:\n",
    "    print(\"Invalid Input\")"
   ]
  },
  {
   "cell_type": "code",
   "execution_count": null,
   "id": "307dd701-bc9a-4883-932d-ec36ff439851",
   "metadata": {},
   "outputs": [],
   "source": []
  }
 ],
 "metadata": {
  "kernelspec": {
   "display_name": "Python 3 (ipykernel)",
   "language": "python",
   "name": "python3"
  },
  "language_info": {
   "codemirror_mode": {
    "name": "ipython",
    "version": 3
   },
   "file_extension": ".py",
   "mimetype": "text/x-python",
   "name": "python",
   "nbconvert_exporter": "python",
   "pygments_lexer": "ipython3",
   "version": "3.12.4"
  }
 },
 "nbformat": 4,
 "nbformat_minor": 5
}
